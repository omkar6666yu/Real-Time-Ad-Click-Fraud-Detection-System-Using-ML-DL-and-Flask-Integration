{
 "cells": [
  {
   "cell_type": "code",
   "execution_count": null,
   "id": "e4beaf5f",
   "metadata": {
    "vscode": {
     "languageId": "plaintext"
    }
   },
   "outputs": [],
   "source": [
    "# Optional: start a Jupyter notebook here to run experiments interactively.\n",
    "# Placeholder file — you can create a notebook and import functions from preprocessing/ and models/\n"
   ]
  }
 ],
 "metadata": {
  "language_info": {
   "name": "python"
  }
 },
 "nbformat": 4,
 "nbformat_minor": 5
}
